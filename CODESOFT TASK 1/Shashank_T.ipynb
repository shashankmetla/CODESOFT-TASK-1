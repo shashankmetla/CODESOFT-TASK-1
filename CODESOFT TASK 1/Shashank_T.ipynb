{
  "nbformat": 4,
  "nbformat_minor": 0,
  "metadata": {
    "colab": {
      "provenance": []
    },
    "kernelspec": {
      "name": "python3",
      "display_name": "Python 3"
    },
    "language_info": {
      "name": "python"
    }
  },
  "cells": [
    {
      "cell_type": "code",
      "execution_count": 3,
      "metadata": {
        "colab": {
          "base_uri": "https://localhost:8080/",
          "height": 581
        },
        "id": "mhqunOiF_4Is",
        "outputId": "80083b25-a945-4e55-a2b6-f5021818f052"
      },
      "outputs": [
        {
          "output_type": "stream",
          "name": "stdout",
          "text": [
            "Enter passenger name: Shashank \n",
            "Enter ticket class (1, 2, or 3): 2\n",
            "Prediction: Survived\n"
          ]
        },
        {
          "output_type": "display_data",
          "data": {
            "text/plain": [
              "<Figure size 600x600 with 1 Axes>"
            ],
            "image/png": "[encoded data removed]"
          },
          "metadata": {}
        }
      ],
      "source": [
        "# Import necessary libraries\n",
        "import pandas as pd\n",
        "from sklearn.model_selection import train_test_split\n",
        "from sklearn.preprocessing import LabelEncoder\n",
        "from sklearn.ensemble import RandomForestClassifier\n",
        "import matplotlib.pyplot as plt\n",
        "import warnings\n",
        "\n",
        "# Suppress warnings\n",
        "warnings.filterwarnings('ignore')\n",
        "\n",
        "# Load the dataset\n",
        "file_path = 'Titanic-Dataset.csv'  # replace with your file path\n",
        "titanic_data = pd.read_csv(file_path)\n",
        "\n",
        "# Preprocess the data\n",
        "def preprocess_data(data):\n",
        "    data = data.copy()\n",
        "    # Fill missing values\n",
        "    data['Age'].fillna(data['Age'].median(), inplace=True)\n",
        "    data['Embarked'].fillna(data['Embarked'].mode()[0], inplace=True)\n",
        "    data['Fare'].fillna(data['Fare'].median(), inplace=True)\n",
        "    # Drop columns that are not needed\n",
        "    data.drop(columns=['PassengerId', 'Name', 'Ticket', 'Cabin'], inplace=True)\n",
        "    # Convert categorical variables to numeric\n",
        "    label_encoder = LabelEncoder()\n",
        "    data['Sex'] = label_encoder.fit_transform(data['Sex'])\n",
        "    data['Embarked'] = label_encoder.fit_transform(data['Embarked'])\n",
        "    return data\n",
        "\n",
        "# Preprocess the dataset\n",
        "processed_data = preprocess_data(titanic_data)\n",
        "\n",
        "# Split the data into features and target\n",
        "X = processed_data.drop(columns=['Survived'])\n",
        "y = processed_data['Survived']\n",
        "\n",
        "# Split the data into training and testing sets\n",
        "X_train, X_test, y_train, y_test = train_test_split(X, y, test_size=0.2, random_state=42)\n",
        "\n",
        "# Build the predictive model\n",
        "model = RandomForestClassifier(n_estimators=100, random_state=42)\n",
        "model.fit(X_train, y_train)\n",
        "\n",
        "# Function to predict survival\n",
        "def predict_survival(name, pclass):\n",
        "    # Use the first matching name from the dataset\n",
        "    matching_passengers = titanic_data[titanic_data['Pclass'] == pclass]\n",
        "\n",
        "    if matching_passengers.empty:\n",
        "        return \"No passengers found for this class.\", \"\"\n",
        "\n",
        "    # Check if the name exists in the dataset\n",
        "    if name in matching_passengers['Name'].values:\n",
        "        passenger = matching_passengers[matching_passengers['Name'] == name]\n",
        "    else:\n",
        "        # If the exact name is not found, use the first matching class passenger\n",
        "        passenger = matching_passengers.iloc[0:1]\n",
        "\n",
        "    # Prepare passenger data for prediction\n",
        "    passenger_data = preprocess_data(passenger)\n",
        "    prediction = model.predict(passenger_data.drop(columns=['Survived']))[0]\n",
        "    survived = 'Survived' if prediction == 1 else 'Did not survive'\n",
        "\n",
        "    return survived\n",
        "\n",
        "# Function to plot pie chart\n",
        "def plot_prediction(survived):\n",
        "    labels = ['Survived', 'Did not survive']\n",
        "    sizes = [1, 0] if survived == 'Survived' else [0, 1]\n",
        "    colors = ['#ff9999','#66b3ff']\n",
        "\n",
        "    plt.figure(figsize=(6, 6))\n",
        "    plt.pie(sizes, labels=labels, colors=colors, autopct='%1.1f%%', startangle=90)\n",
        "    plt.axis('equal')  # Equal aspect ratio ensures that pie is drawn as a circle.\n",
        "    plt.title('Survival Prediction')\n",
        "    plt.show()\n",
        "\n",
        "# User input for prediction\n",
        "name = input(\"Enter passenger name: \")\n",
        "pclass = int(input(\"Enter ticket class (1, 2, or 3): \"))\n",
        "prediction = predict_survival(name, pclass)\n",
        "\n",
        "# Display prediction and plot pie chart\n",
        "print(f\"Prediction: {prediction}\")\n",
        "plot_prediction(prediction)\n"
      ]
    },
    {
      "cell_type": "code",
      "source": [],
      "metadata": {
        "id": "U1ewbGm8ETt7"
      },
      "execution_count": null,
      "outputs": []
    }
  ]
}